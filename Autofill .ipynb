{
 "cells": [
  {
   "cell_type": "code",
   "execution_count": 2,
   "id": "4b30d16f",
   "metadata": {},
   "outputs": [
    {
     "name": "stdout",
     "output_type": "stream",
     "text": [
      "Number of words in text file : 697\n"
     ]
    }
   ],
   "source": [
    "#file = open(\"تاريخ الأندلس و تاريخ فلسطين.txt\", \"rt\")\n",
    "file = open(\"test.txt\", \"rt\")\n",
    "data = file.read()\n",
    "words = data.split()\n",
    "print('Number of words in text file :', len(words))"
   ]
  },
  {
   "cell_type": "code",
   "execution_count": 159,
   "id": "1b49cc6f",
   "metadata": {
    "scrolled": true
   },
   "outputs": [
    {
     "name": "stdout",
     "output_type": "stream",
     "text": [
      "Search: الرسول محمد\n",
      "الرسول محمد بن\n",
      "الرسول محمد وتأسست\n",
      "الرسول محمد عندما\n",
      "الرسول محمد منذ\n"
     ]
    }
   ],
   "source": [
    "import nltk\n",
    "from nltk import word_tokenize,sent_tokenize\n",
    "import numpy as np\n",
    "import string\n",
    "import re\n",
    "import tkinter\n",
    "\n",
    "\n",
    "count=0\n",
    "probability={}    \n",
    "n_grams={}\n",
    "n=3\n",
    "\n",
    "# Open File.\n",
    "file= open(\"تاريخ الأندلس و تاريخ فلسطين.txt\" ,\"r\", encoding=\"utf8\") \n",
    "data=file.read()\n",
    "file.close()\n",
    "\n",
    "\n",
    "# Tokens.\n",
    "#pattern = '^\\s [$&+,:;=?@#|<>.^*()%!-]| [\\u0600-\\u06ff]|[\\u0750-\\u077f]|[\\ufb50-\\ufbc1]|[\\ufbd3-\\ufd3f]|[\\ufd50-\\ufd8f]|[\\ufd92-\\ufdc7]|[\\ufe70-\\ufefc]|[\\uFDF0-\\uFDFD]/'\n",
    "pattern = '[^\\s ء-ي]'\n",
    "replacement = ''\n",
    "data=re.sub(pattern, replacement,data)\n",
    "tokens=nltk.word_tokenize(data)\n",
    "#print(tokens)\n",
    "\n",
    "word_trigrams = list(nltk.trigrams(tokens))\n",
    "\n",
    "def search(query):\n",
    "    search_query = query.split()\n",
    "    query_length = len(search_query)\n",
    "    valid_results = {}\n",
    "    \n",
    "    if query_length <= 3 and query_length >= 1:\n",
    "        for trigram in word_trigrams:\n",
    "            if trigram[0] == search_query[0] \\\n",
    "            and (query_length <= 1 or trigram[1] == search_query[1]) \\\n",
    "            and (query_length <= 2 or trigram[2] == search_query[2]):\n",
    "                sentence = ' '.join(trigram)\n",
    "                if sentence not in valid_results:\n",
    "                    valid_results[sentence] = 1\n",
    "                else:\n",
    "                    valid_results[sentence] += 1\n",
    "\n",
    "        # sorting based on search hits\n",
    "        valid_results = dict(sorted(valid_results.items(), key=lambda item: item[1], reverse=True))\n",
    "\n",
    "        hits = len(valid_results)\n",
    "        \n",
    "        # mean hits\n",
    "        for result in valid_results:\n",
    "            valid_results[result] = valid_results[result] / hits\n",
    "\n",
    "        \n",
    "        # threshold for results\n",
    "        valid_results = dict(filter(lambda item: item[1] >= 0.05, valid_results.items()))\n",
    "    \n",
    "    return valid_results\n",
    "\n",
    "\n",
    "input_query = input(\"Search: \")\n",
    "results = search(input_query)\n",
    "\n",
    "for result in results:\n",
    "    print(result)"
   ]
  },
  {
   "cell_type": "code",
   "execution_count": null,
   "id": "b8153283",
   "metadata": {},
   "outputs": [],
   "source": []
  },
  {
   "cell_type": "code",
   "execution_count": null,
   "id": "aa82c322",
   "metadata": {},
   "outputs": [],
   "source": []
  }
 ],
 "metadata": {
  "kernelspec": {
   "display_name": "Python 3",
   "language": "python",
   "name": "python3"
  },
  "language_info": {
   "codemirror_mode": {
    "name": "ipython",
    "version": 3
   },
   "file_extension": ".py",
   "mimetype": "text/x-python",
   "name": "python",
   "nbconvert_exporter": "python",
   "pygments_lexer": "ipython3",
   "version": "3.7.9"
  }
 },
 "nbformat": 4,
 "nbformat_minor": 5
}
